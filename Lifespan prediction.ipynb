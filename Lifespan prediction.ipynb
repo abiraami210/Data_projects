{
 "cells": [
  {
   "cell_type": "markdown",
   "metadata": {},
   "source": [
    "## Lifespan of a Freshwater Fish\n",
    "In this exercise, the given dataset is trained using 4 regression algorithms - Multiple Linear Regression, Support Vecort Regression, Decision Tree and Random Forest Regressor. The alogorithm builds a model on the features of training data and the best preforming model is used to predict the dependent variable for new data.\n",
    "We start by importing the libraries and the dataset."
   ]
  },
  {
   "cell_type": "code",
   "execution_count": 62,
   "metadata": {},
   "outputs": [],
   "source": [
    "import pandas as pd\n",
    "import numpy as np\n",
    "import matplotlib.pyplot as plt\n",
    "import os\n",
    "from sklearn.compose import make_column_transformer\n",
    "from sklearn.preprocessing import OneHotEncoder\n",
    "from sklearn.tree import DecisionTreeRegressor\n",
    "from sklearn.model_selection import cross_val_score\n",
    "import statsmodels.api as sm\n",
    "import seaborn as sns"
   ]
  },
  {
   "cell_type": "code",
   "execution_count": 63,
   "metadata": {},
   "outputs": [],
   "source": [
    "#Changing the working directory\n",
    "os.chdir(\"C:/Users/sabir/OneDrive/Desktop/Job/Job Search/Adobe/Intern_Test\")"
   ]
  },
  {
   "cell_type": "code",
   "execution_count": 64,
   "metadata": {},
   "outputs": [],
   "source": [
    "df = pd.read_csv('intern_data.csv')"
   ]
  },
  {
   "cell_type": "code",
   "execution_count": 65,
   "metadata": {},
   "outputs": [
    {
     "data": {
      "text/plain": [
       "<matplotlib.axes._subplots.AxesSubplot at 0x171867c2ba8>"
      ]
     },
     "execution_count": 65,
     "metadata": {},
     "output_type": "execute_result"
    },
    {
     "data": {
      "image/png": "[encoded data removed]",
      "text/plain": [
       "<Figure size 432x288 with 2 Axes>"
      ]
     },
     "metadata": {
      "needs_background": "light"
     },
     "output_type": "display_data"
    }
   ],
   "source": [
    "df = df.loc[:, ~df.columns.str.contains('^Unnamed')]\n",
    "sns.heatmap(df.corr())"
   ]
  },
  {
   "cell_type": "markdown",
   "metadata": {},
   "source": [
    "This correlation plot depicts the relationship between the variables. The highest correlation is 0.42, between y and e."
   ]
  },
  {
   "cell_type": "code",
   "execution_count": 66,
   "metadata": {},
   "outputs": [
    {
     "data": {
      "text/html": [
       "<div>\n",
       "<style scoped>\n",
       "    .dataframe tbody tr th:only-of-type {\n",
       "        vertical-align: middle;\n",
       "    }\n",
       "\n",
       "    .dataframe tbody tr th {\n",
       "        vertical-align: top;\n",
       "    }\n",
       "\n",
       "    .dataframe thead th {\n",
       "        text-align: right;\n",
       "    }\n",
       "</style>\n",
       "<table border=\"1\" class=\"dataframe\">\n",
       "  <thead>\n",
       "    <tr style=\"text-align: right;\">\n",
       "      <th></th>\n",
       "      <th>a</th>\n",
       "      <th>b</th>\n",
       "      <th>c</th>\n",
       "      <th>d</th>\n",
       "      <th>e</th>\n",
       "      <th>f</th>\n",
       "      <th>g</th>\n",
       "      <th>h</th>\n",
       "    </tr>\n",
       "  </thead>\n",
       "  <tbody>\n",
       "    <tr>\n",
       "      <th>0</th>\n",
       "      <td>0.951786</td>\n",
       "      <td>0.669570</td>\n",
       "      <td>green</td>\n",
       "      <td>0.170130</td>\n",
       "      <td>0.623469</td>\n",
       "      <td>0.925886</td>\n",
       "      <td>0.812685</td>\n",
       "      <td>white</td>\n",
       "    </tr>\n",
       "    <tr>\n",
       "      <th>1</th>\n",
       "      <td>0.510447</td>\n",
       "      <td>0.922627</td>\n",
       "      <td>red</td>\n",
       "      <td>0.087899</td>\n",
       "      <td>0.025415</td>\n",
       "      <td>0.698444</td>\n",
       "      <td>0.658545</td>\n",
       "      <td>white</td>\n",
       "    </tr>\n",
       "    <tr>\n",
       "      <th>2</th>\n",
       "      <td>0.294838</td>\n",
       "      <td>0.351081</td>\n",
       "      <td>yellow</td>\n",
       "      <td>0.710892</td>\n",
       "      <td>0.699661</td>\n",
       "      <td>0.545722</td>\n",
       "      <td>0.836863</td>\n",
       "      <td>black</td>\n",
       "    </tr>\n",
       "    <tr>\n",
       "      <th>3</th>\n",
       "      <td>0.798645</td>\n",
       "      <td>0.572042</td>\n",
       "      <td>green</td>\n",
       "      <td>0.026137</td>\n",
       "      <td>0.609730</td>\n",
       "      <td>0.488668</td>\n",
       "      <td>0.342675</td>\n",
       "      <td>black</td>\n",
       "    </tr>\n",
       "    <tr>\n",
       "      <th>4</th>\n",
       "      <td>0.689666</td>\n",
       "      <td>0.395323</td>\n",
       "      <td>red</td>\n",
       "      <td>0.172448</td>\n",
       "      <td>0.736433</td>\n",
       "      <td>0.708408</td>\n",
       "      <td>0.695521</td>\n",
       "      <td>white</td>\n",
       "    </tr>\n",
       "  </tbody>\n",
       "</table>\n",
       "</div>"
      ],
      "text/plain": [
       "          a         b       c         d         e         f         g      h\n",
       "0  0.951786  0.669570   green  0.170130  0.623469  0.925886  0.812685  white\n",
       "1  0.510447  0.922627     red  0.087899  0.025415  0.698444  0.658545  white\n",
       "2  0.294838  0.351081  yellow  0.710892  0.699661  0.545722  0.836863  black\n",
       "3  0.798645  0.572042   green  0.026137  0.609730  0.488668  0.342675  black\n",
       "4  0.689666  0.395323     red  0.172448  0.736433  0.708408  0.695521  white"
      ]
     },
     "execution_count": 66,
     "metadata": {},
     "output_type": "execute_result"
    }
   ],
   "source": [
    "Y = df['y'].values\n",
    "df.drop(['y'], axis=1, inplace=True)\n",
    "df.head()"
   ]
  },
  {
   "cell_type": "code",
   "execution_count": 67,
   "metadata": {},
   "outputs": [],
   "source": [
    "test = pd.read_csv('intern_test.csv')\n",
    "test = test.loc[:, ~test.columns.str.contains('^Unnamed')]"
   ]
  },
  {
   "cell_type": "markdown",
   "metadata": {},
   "source": [
    "### One Hot Encoding\n",
    "This data-preprocessing technique is used to work with categorial features in columns 'c' and 'h'. It creates new binary columns for each possible categorial value in the dataset."
   ]
  },
  {
   "cell_type": "code",
   "execution_count": 68,
   "metadata": {},
   "outputs": [],
   "source": [
    "categorical_cols = ['c', 'h']\n",
    "column_trans = make_column_transformer(\n",
    "    (OneHotEncoder(handle_unknown='ignore'), categorical_cols), remainder='passthrough')\n",
    "\n",
    "test_column_trans = make_column_transformer(\n",
    "    (OneHotEncoder(handle_unknown='ignore'), categorical_cols), remainder='passthrough')\n",
    "X_test = test_column_trans.fit_transform(test)"
   ]
  },
  {
   "cell_type": "markdown",
   "metadata": {},
   "source": [
    "### MULTIPLE LINEAR REGRESSION\n",
    "    The multiple linear regression algorithm models the relationship between the independent and dependent variables by\n",
    "    fitting a linear equation to the observed data. "
   ]
  },
  {
   "cell_type": "code",
   "execution_count": 69,
   "metadata": {},
   "outputs": [],
   "source": [
    "X_lr = column_trans.fit_transform(df)"
   ]
  },
  {
   "cell_type": "markdown",
   "metadata": {},
   "source": [
    "We now building a multiple linear regressor by creating an object of the classs LinearRegression and fit it to our training data."
   ]
  },
  {
   "cell_type": "code",
   "execution_count": 70,
   "metadata": {},
   "outputs": [
    {
     "data": {
      "text/plain": [
       "LinearRegression(copy_X='True', fit_intercept='True', n_jobs=-1,\n",
       "                 normalize='True')"
      ]
     },
     "execution_count": 70,
     "metadata": {},
     "output_type": "execute_result"
    }
   ],
   "source": [
    "from sklearn.linear_model import LinearRegression\n",
    "regressor_lr = LinearRegression(copy_X = 'True', fit_intercept= 'True', normalize= 'True',n_jobs =-1)\n",
    "regressor_lr.fit(X_lr,Y)"
   ]
  },
  {
   "cell_type": "markdown",
   "metadata": {},
   "source": [
    "### K-fold Cross Validation\n",
    "The data set is split into k number of sections/folds. Holding out one of the folds at a time, the model is trained on the remaining k-1 folds to make a prediction for the held-out fold. The regression model is then evaluated by calculating the accuracies. In this case, k = 10."
   ]
  },
  {
   "cell_type": "code",
   "execution_count": 71,
   "metadata": {},
   "outputs": [
    {
     "name": "stdout",
     "output_type": "stream",
     "text": [
      "0.970519687345816\n",
      "0.009063451352197625\n"
     ]
    }
   ],
   "source": [
    "accuracies_lr = cross_val_score(estimator=regressor_lr, X= X_lr, y=Y, cv = 10, n_jobs=-1)\n",
    "m_lr= accuracies_lr.mean()     #0.970\n",
    "print (m_lr)\n",
    "s_lr = accuracies_lr.std()\n",
    "print (s_lr)\n",
    "y_pred_lr = regressor_lr.predict(X_lr)"
   ]
  },
  {
   "cell_type": "markdown",
   "metadata": {},
   "source": [
    "The accuracy of the model is the average R squared coefficient value for each fold. For this model, the average R squared value is **0.9704**. "
   ]
  },
  {
   "cell_type": "markdown",
   "metadata": {},
   "source": [
    "### Hyperparameter Tuning\n",
    "The model is optimized by tuning the hyper-parameters. The performance of the enitre model is based on the hyper parameter values specified. The best set of hyper parameter values chosen in the grid search are used in the actual model."
   ]
  },
  {
   "cell_type": "code",
   "execution_count": 72,
   "metadata": {},
   "outputs": [
    {
     "name": "stdout",
     "output_type": "stream",
     "text": [
      "{'copy_X': 'True', 'fit_intercept': 'True', 'normalize': 'True'}\n"
     ]
    }
   ],
   "source": [
    "from sklearn.model_selection import GridSearchCV\n",
    "clf_lr = GridSearchCV(LinearRegression(n_jobs=-1),{\n",
    "        'fit_intercept' : ['True','False'],\n",
    "        'normalize' : ['True','False'],\n",
    "        'copy_X' : ['True','False'],\n",
    "        \n",
    "        }, cv=5, return_train_score = False)\n",
    "    \n",
    "clf_lr.fit(X_lr,Y)\n",
    "print(clf_lr.best_params_)\n",
    "df_results = pd.DataFrame(clf_lr.cv_results_)"
   ]
  },
  {
   "cell_type": "markdown",
   "metadata": {},
   "source": [
    "### Backward Elimination\n",
    "A new matrix of optimal features is created using the ordinary least squares class(OLS). The arguments endog is the dependent variable and exog in the matrix of features. "
   ]
  },
  {
   "cell_type": "code",
   "execution_count": 99,
   "metadata": {},
   "outputs": [
    {
     "data": {
      "text/html": [
       "<table class=\"simpletable\">\n",
       "<caption>OLS Regression Results</caption>\n",
       "<tr>\n",
       "  <th>Dep. Variable:</th>            <td>y</td>        <th>  R-squared:         </th> <td>   0.973</td>\n",
       "</tr>\n",
       "<tr>\n",
       "  <th>Model:</th>                   <td>OLS</td>       <th>  Adj. R-squared:    </th> <td>   0.973</td>\n",
       "</tr>\n",
       "<tr>\n",
       "  <th>Method:</th>             <td>Least Squares</td>  <th>  F-statistic:       </th> <td>   1775.</td>\n",
       "</tr>\n",
       "<tr>\n",
       "  <th>Date:</th>             <td>Sat, 01 Feb 2020</td> <th>  Prob (F-statistic):</th>  <td>  0.00</td> \n",
       "</tr>\n",
       "<tr>\n",
       "  <th>Time:</th>                 <td>17:54:08</td>     <th>  Log-Likelihood:    </th> <td>  457.50</td>\n",
       "</tr>\n",
       "<tr>\n",
       "  <th>No. Observations:</th>      <td>   500</td>      <th>  AIC:               </th> <td>  -893.0</td>\n",
       "</tr>\n",
       "<tr>\n",
       "  <th>Df Residuals:</th>          <td>   489</td>      <th>  BIC:               </th> <td>  -846.6</td>\n",
       "</tr>\n",
       "<tr>\n",
       "  <th>Df Model:</th>              <td>    10</td>      <th>                     </th>     <td> </td>   \n",
       "</tr>\n",
       "<tr>\n",
       "  <th>Covariance Type:</th>      <td>nonrobust</td>    <th>                     </th>     <td> </td>   \n",
       "</tr>\n",
       "</table>\n",
       "<table class=\"simpletable\">\n",
       "<tr>\n",
       "    <td></td>       <th>coef</th>     <th>std err</th>      <th>t</th>      <th>P>|t|</th>  <th>[0.025</th>    <th>0.975]</th>  \n",
       "</tr>\n",
       "<tr>\n",
       "  <th>const</th> <td>    0.6643</td> <td>    0.011</td> <td>   58.701</td> <td> 0.000</td> <td>    0.642</td> <td>    0.686</td>\n",
       "</tr>\n",
       "<tr>\n",
       "  <th>x1</th>    <td>   -0.4204</td> <td>    0.008</td> <td>  -50.225</td> <td> 0.000</td> <td>   -0.437</td> <td>   -0.404</td>\n",
       "</tr>\n",
       "<tr>\n",
       "  <th>x2</th>    <td>    0.4822</td> <td>    0.008</td> <td>   59.927</td> <td> 0.000</td> <td>    0.466</td> <td>    0.498</td>\n",
       "</tr>\n",
       "<tr>\n",
       "  <th>x3</th>    <td>    0.1446</td> <td>    0.008</td> <td>   17.724</td> <td> 0.000</td> <td>    0.129</td> <td>    0.161</td>\n",
       "</tr>\n",
       "<tr>\n",
       "  <th>x4</th>    <td>    0.4578</td> <td>    0.008</td> <td>   56.739</td> <td> 0.000</td> <td>    0.442</td> <td>    0.474</td>\n",
       "</tr>\n",
       "<tr>\n",
       "  <th>x5</th>    <td>    0.0153</td> <td>    0.008</td> <td>    1.847</td> <td> 0.065</td> <td>   -0.001</td> <td>    0.032</td>\n",
       "</tr>\n",
       "<tr>\n",
       "  <th>x6</th>    <td>    0.6490</td> <td>    0.007</td> <td>   89.317</td> <td> 0.000</td> <td>    0.635</td> <td>    0.663</td>\n",
       "</tr>\n",
       "<tr>\n",
       "  <th>x7</th>    <td>   -0.0073</td> <td>    0.015</td> <td>   -0.485</td> <td> 0.628</td> <td>   -0.037</td> <td>    0.022</td>\n",
       "</tr>\n",
       "<tr>\n",
       "  <th>x8</th>    <td>    0.3919</td> <td>    0.015</td> <td>   25.872</td> <td> 0.000</td> <td>    0.362</td> <td>    0.422</td>\n",
       "</tr>\n",
       "<tr>\n",
       "  <th>x9</th>    <td>    0.0013</td> <td>    0.016</td> <td>    0.085</td> <td> 0.932</td> <td>   -0.029</td> <td>    0.032</td>\n",
       "</tr>\n",
       "<tr>\n",
       "  <th>x10</th>   <td>    0.9517</td> <td>    0.016</td> <td>   58.083</td> <td> 0.000</td> <td>    0.919</td> <td>    0.984</td>\n",
       "</tr>\n",
       "<tr>\n",
       "  <th>x11</th>   <td>    0.6718</td> <td>    0.015</td> <td>   44.425</td> <td> 0.000</td> <td>    0.642</td> <td>    0.702</td>\n",
       "</tr>\n",
       "<tr>\n",
       "  <th>x12</th>   <td>    0.6033</td> <td>    0.015</td> <td>   38.930</td> <td> 0.000</td> <td>    0.573</td> <td>    0.634</td>\n",
       "</tr>\n",
       "</table>\n",
       "<table class=\"simpletable\">\n",
       "<tr>\n",
       "  <th>Omnibus:</th>       <td> 4.748</td> <th>  Durbin-Watson:     </th> <td>   2.098</td>\n",
       "</tr>\n",
       "<tr>\n",
       "  <th>Prob(Omnibus):</th> <td> 0.093</td> <th>  Jarque-Bera (JB):  </th> <td>   4.533</td>\n",
       "</tr>\n",
       "<tr>\n",
       "  <th>Skew:</th>          <td>-0.220</td> <th>  Prob(JB):          </th> <td>   0.104</td>\n",
       "</tr>\n",
       "<tr>\n",
       "  <th>Kurtosis:</th>      <td> 3.156</td> <th>  Cond. No.          </th> <td>1.22e+16</td>\n",
       "</tr>\n",
       "</table><br/><br/>Warnings:<br/>[1] Standard Errors assume that the covariance matrix of the errors is correctly specified.<br/>[2] The smallest eigenvalue is 1.17e-29. This might indicate that there are<br/>strong multicollinearity problems or that the design matrix is singular."
      ],
      "text/plain": [
       "<class 'statsmodels.iolib.summary.Summary'>\n",
       "\"\"\"\n",
       "                            OLS Regression Results                            \n",
       "==============================================================================\n",
       "Dep. Variable:                      y   R-squared:                       0.973\n",
       "Model:                            OLS   Adj. R-squared:                  0.973\n",
       "Method:                 Least Squares   F-statistic:                     1775.\n",
       "Date:                Sat, 01 Feb 2020   Prob (F-statistic):               0.00\n",
       "Time:                        17:54:08   Log-Likelihood:                 457.50\n",
       "No. Observations:                 500   AIC:                            -893.0\n",
       "Df Residuals:                     489   BIC:                            -846.6\n",
       "Df Model:                          10                                         \n",
       "Covariance Type:            nonrobust                                         \n",
       "==============================================================================\n",
       "                 coef    std err          t      P>|t|      [0.025      0.975]\n",
       "------------------------------------------------------------------------------\n",
       "const          0.6643      0.011     58.701      0.000       0.642       0.686\n",
       "x1            -0.4204      0.008    -50.225      0.000      -0.437      -0.404\n",
       "x2             0.4822      0.008     59.927      0.000       0.466       0.498\n",
       "x3             0.1446      0.008     17.724      0.000       0.129       0.161\n",
       "x4             0.4578      0.008     56.739      0.000       0.442       0.474\n",
       "x5             0.0153      0.008      1.847      0.065      -0.001       0.032\n",
       "x6             0.6490      0.007     89.317      0.000       0.635       0.663\n",
       "x7            -0.0073      0.015     -0.485      0.628      -0.037       0.022\n",
       "x8             0.3919      0.015     25.872      0.000       0.362       0.422\n",
       "x9             0.0013      0.016      0.085      0.932      -0.029       0.032\n",
       "x10            0.9517      0.016     58.083      0.000       0.919       0.984\n",
       "x11            0.6718      0.015     44.425      0.000       0.642       0.702\n",
       "x12            0.6033      0.015     38.930      0.000       0.573       0.634\n",
       "==============================================================================\n",
       "Omnibus:                        4.748   Durbin-Watson:                   2.098\n",
       "Prob(Omnibus):                  0.093   Jarque-Bera (JB):                4.533\n",
       "Skew:                          -0.220   Prob(JB):                        0.104\n",
       "Kurtosis:                       3.156   Cond. No.                     1.22e+16\n",
       "==============================================================================\n",
       "\n",
       "Warnings:\n",
       "[1] Standard Errors assume that the covariance matrix of the errors is correctly specified.\n",
       "[2] The smallest eigenvalue is 1.17e-29. This might indicate that there are\n",
       "strong multicollinearity problems or that the design matrix is singular.\n",
       "\"\"\""
      ]
     },
     "execution_count": 99,
     "metadata": {},
     "output_type": "execute_result"
    }
   ],
   "source": [
    "import statsmodels.api as sm \n",
    "X_lr = np.append(arr=np.ones((500,1)).astype(int), values= X_lr, axis =1) #does not include the constant b0, so add a column of 1\n",
    "X_optimal = X_lr[:,[0,1,2,3,4,5,6,7,8,9,10,11,12]] \n",
    "regressor_OLS = sm.OLS(endog=Y,exog=X_optimal).fit()\n",
    "regressor_OLS.summary()"
   ]
  },
  {
   "cell_type": "markdown",
   "metadata": {},
   "source": [
    "From the summary, we see the adjusted R-squared and p-values. The lower the p-value, the more significant is the independent variable to the dependent variable. So, we remove index 9 as it has the highest p-value (0.932). The process is repeated."
   ]
  },
  {
   "cell_type": "code",
   "execution_count": 100,
   "metadata": {},
   "outputs": [
    {
     "data": {
      "text/html": [
       "<table class=\"simpletable\">\n",
       "<caption>OLS Regression Results</caption>\n",
       "<tr>\n",
       "  <th>Dep. Variable:</th>            <td>y</td>        <th>  R-squared:         </th> <td>   0.973</td>\n",
       "</tr>\n",
       "<tr>\n",
       "  <th>Model:</th>                   <td>OLS</td>       <th>  Adj. R-squared:    </th> <td>   0.973</td>\n",
       "</tr>\n",
       "<tr>\n",
       "  <th>Method:</th>             <td>Least Squares</td>  <th>  F-statistic:       </th> <td>   1977.</td>\n",
       "</tr>\n",
       "<tr>\n",
       "  <th>Date:</th>             <td>Sat, 01 Feb 2020</td> <th>  Prob (F-statistic):</th>  <td>  0.00</td> \n",
       "</tr>\n",
       "<tr>\n",
       "  <th>Time:</th>                 <td>17:54:13</td>     <th>  Log-Likelihood:    </th> <td>  457.50</td>\n",
       "</tr>\n",
       "<tr>\n",
       "  <th>No. Observations:</th>      <td>   500</td>      <th>  AIC:               </th> <td>  -895.0</td>\n",
       "</tr>\n",
       "<tr>\n",
       "  <th>Df Residuals:</th>          <td>   490</td>      <th>  BIC:               </th> <td>  -852.9</td>\n",
       "</tr>\n",
       "<tr>\n",
       "  <th>Df Model:</th>              <td>     9</td>      <th>                     </th>     <td> </td>   \n",
       "</tr>\n",
       "<tr>\n",
       "  <th>Covariance Type:</th>      <td>nonrobust</td>    <th>                     </th>     <td> </td>   \n",
       "</tr>\n",
       "</table>\n",
       "<table class=\"simpletable\">\n",
       "<tr>\n",
       "    <td></td>       <th>coef</th>     <th>std err</th>      <th>t</th>      <th>P>|t|</th>  <th>[0.025</th>    <th>0.975]</th>  \n",
       "</tr>\n",
       "<tr>\n",
       "  <th>const</th> <td>    0.6770</td> <td>    0.016</td> <td>   42.861</td> <td> 0.000</td> <td>    0.646</td> <td>    0.708</td>\n",
       "</tr>\n",
       "<tr>\n",
       "  <th>x1</th>    <td>   -0.4172</td> <td>    0.009</td> <td>  -47.706</td> <td> 0.000</td> <td>   -0.434</td> <td>   -0.400</td>\n",
       "</tr>\n",
       "<tr>\n",
       "  <th>x2</th>    <td>    0.4854</td> <td>    0.009</td> <td>   56.621</td> <td> 0.000</td> <td>    0.469</td> <td>    0.502</td>\n",
       "</tr>\n",
       "<tr>\n",
       "  <th>x3</th>    <td>    0.1478</td> <td>    0.009</td> <td>   17.148</td> <td> 0.000</td> <td>    0.131</td> <td>    0.165</td>\n",
       "</tr>\n",
       "<tr>\n",
       "  <th>x4</th>    <td>    0.4610</td> <td>    0.008</td> <td>   54.583</td> <td> 0.000</td> <td>    0.444</td> <td>    0.478</td>\n",
       "</tr>\n",
       "<tr>\n",
       "  <th>x5</th>    <td>    0.6336</td> <td>    0.011</td> <td>   59.217</td> <td> 0.000</td> <td>    0.613</td> <td>    0.655</td>\n",
       "</tr>\n",
       "<tr>\n",
       "  <th>x6</th>    <td>   -0.0073</td> <td>    0.015</td> <td>   -0.485</td> <td> 0.628</td> <td>   -0.037</td> <td>    0.022</td>\n",
       "</tr>\n",
       "<tr>\n",
       "  <th>x7</th>    <td>    0.3919</td> <td>    0.015</td> <td>   25.922</td> <td> 0.000</td> <td>    0.362</td> <td>    0.422</td>\n",
       "</tr>\n",
       "<tr>\n",
       "  <th>x8</th>    <td>    0.9516</td> <td>    0.016</td> <td>   58.142</td> <td> 0.000</td> <td>    0.919</td> <td>    0.984</td>\n",
       "</tr>\n",
       "<tr>\n",
       "  <th>x9</th>    <td>    0.6718</td> <td>    0.015</td> <td>   44.471</td> <td> 0.000</td> <td>    0.642</td> <td>    0.702</td>\n",
       "</tr>\n",
       "<tr>\n",
       "  <th>x10</th>   <td>    0.6032</td> <td>    0.015</td> <td>   38.973</td> <td> 0.000</td> <td>    0.573</td> <td>    0.634</td>\n",
       "</tr>\n",
       "</table>\n",
       "<table class=\"simpletable\">\n",
       "<tr>\n",
       "  <th>Omnibus:</th>       <td> 4.734</td> <th>  Durbin-Watson:     </th> <td>   2.098</td>\n",
       "</tr>\n",
       "<tr>\n",
       "  <th>Prob(Omnibus):</th> <td> 0.094</td> <th>  Jarque-Bera (JB):  </th> <td>   4.519</td>\n",
       "</tr>\n",
       "<tr>\n",
       "  <th>Skew:</th>          <td>-0.219</td> <th>  Prob(JB):          </th> <td>   0.104</td>\n",
       "</tr>\n",
       "<tr>\n",
       "  <th>Kurtosis:</th>      <td> 3.156</td> <th>  Cond. No.          </th> <td>5.05e+15</td>\n",
       "</tr>\n",
       "</table><br/><br/>Warnings:<br/>[1] Standard Errors assume that the covariance matrix of the errors is correctly specified.<br/>[2] The smallest eigenvalue is 6.31e-29. This might indicate that there are<br/>strong multicollinearity problems or that the design matrix is singular."
      ],
      "text/plain": [
       "<class 'statsmodels.iolib.summary.Summary'>\n",
       "\"\"\"\n",
       "                            OLS Regression Results                            \n",
       "==============================================================================\n",
       "Dep. Variable:                      y   R-squared:                       0.973\n",
       "Model:                            OLS   Adj. R-squared:                  0.973\n",
       "Method:                 Least Squares   F-statistic:                     1977.\n",
       "Date:                Sat, 01 Feb 2020   Prob (F-statistic):               0.00\n",
       "Time:                        17:54:13   Log-Likelihood:                 457.50\n",
       "No. Observations:                 500   AIC:                            -895.0\n",
       "Df Residuals:                     490   BIC:                            -852.9\n",
       "Df Model:                           9                                         \n",
       "Covariance Type:            nonrobust                                         \n",
       "==============================================================================\n",
       "                 coef    std err          t      P>|t|      [0.025      0.975]\n",
       "------------------------------------------------------------------------------\n",
       "const          0.6770      0.016     42.861      0.000       0.646       0.708\n",
       "x1            -0.4172      0.009    -47.706      0.000      -0.434      -0.400\n",
       "x2             0.4854      0.009     56.621      0.000       0.469       0.502\n",
       "x3             0.1478      0.009     17.148      0.000       0.131       0.165\n",
       "x4             0.4610      0.008     54.583      0.000       0.444       0.478\n",
       "x5             0.6336      0.011     59.217      0.000       0.613       0.655\n",
       "x6            -0.0073      0.015     -0.485      0.628      -0.037       0.022\n",
       "x7             0.3919      0.015     25.922      0.000       0.362       0.422\n",
       "x8             0.9516      0.016     58.142      0.000       0.919       0.984\n",
       "x9             0.6718      0.015     44.471      0.000       0.642       0.702\n",
       "x10            0.6032      0.015     38.973      0.000       0.573       0.634\n",
       "==============================================================================\n",
       "Omnibus:                        4.734   Durbin-Watson:                   2.098\n",
       "Prob(Omnibus):                  0.094   Jarque-Bera (JB):                4.519\n",
       "Skew:                          -0.219   Prob(JB):                        0.104\n",
       "Kurtosis:                       3.156   Cond. No.                     5.05e+15\n",
       "==============================================================================\n",
       "\n",
       "Warnings:\n",
       "[1] Standard Errors assume that the covariance matrix of the errors is correctly specified.\n",
       "[2] The smallest eigenvalue is 6.31e-29. This might indicate that there are\n",
       "strong multicollinearity problems or that the design matrix is singular.\n",
       "\"\"\""
      ]
     },
     "execution_count": 100,
     "metadata": {},
     "output_type": "execute_result"
    }
   ],
   "source": [
    "X_optimal = X_lr[:,[0,1,2,3,4,6,7,8,10,11,12]] \n",
    "regressor_OLS = sm.OLS(endog=Y,exog=X_optimal).fit()\n",
    "regressor_OLS.summary()"
   ]
  },
  {
   "cell_type": "markdown",
   "metadata": {},
   "source": [
    "This process is repeated till there are no p-values that are higher than the significance level chosen. In this case, SL=0.5"
   ]
  },
  {
   "cell_type": "code",
   "execution_count": 61,
   "metadata": {},
   "outputs": [
    {
     "data": {
      "text/html": [
       "<table class=\"simpletable\">\n",
       "<caption>OLS Regression Results</caption>\n",
       "<tr>\n",
       "  <th>Dep. Variable:</th>            <td>y</td>        <th>  R-squared:         </th> <td>   0.973</td>\n",
       "</tr>\n",
       "<tr>\n",
       "  <th>Model:</th>                   <td>OLS</td>       <th>  Adj. R-squared:    </th> <td>   0.973</td>\n",
       "</tr>\n",
       "<tr>\n",
       "  <th>Method:</th>             <td>Least Squares</td>  <th>  F-statistic:       </th> <td>   2227.</td>\n",
       "</tr>\n",
       "<tr>\n",
       "  <th>Date:</th>             <td>Sat, 01 Feb 2020</td> <th>  Prob (F-statistic):</th>  <td>  0.00</td> \n",
       "</tr>\n",
       "<tr>\n",
       "  <th>Time:</th>                 <td>14:00:52</td>     <th>  Log-Likelihood:    </th> <td>  457.38</td>\n",
       "</tr>\n",
       "<tr>\n",
       "  <th>No. Observations:</th>      <td>   500</td>      <th>  AIC:               </th> <td>  -896.8</td>\n",
       "</tr>\n",
       "<tr>\n",
       "  <th>Df Residuals:</th>          <td>   491</td>      <th>  BIC:               </th> <td>  -858.8</td>\n",
       "</tr>\n",
       "<tr>\n",
       "  <th>Df Model:</th>              <td>     8</td>      <th>                     </th>     <td> </td>   \n",
       "</tr>\n",
       "<tr>\n",
       "  <th>Covariance Type:</th>      <td>nonrobust</td>    <th>                     </th>     <td> </td>   \n",
       "</tr>\n",
       "</table>\n",
       "<table class=\"simpletable\">\n",
       "<tr>\n",
       "    <td></td>       <th>coef</th>     <th>std err</th>      <th>t</th>      <th>P>|t|</th>  <th>[0.025</th>    <th>0.975]</th>  \n",
       "</tr>\n",
       "<tr>\n",
       "  <th>const</th> <td>    1.1811</td> <td>    0.013</td> <td>   88.040</td> <td> 0.000</td> <td>    1.155</td> <td>    1.207</td>\n",
       "</tr>\n",
       "<tr>\n",
       "  <th>x1</th>    <td>   -0.2911</td> <td>    0.008</td> <td>  -34.327</td> <td> 0.000</td> <td>   -0.308</td> <td>   -0.274</td>\n",
       "</tr>\n",
       "<tr>\n",
       "  <th>x2</th>    <td>    0.6115</td> <td>    0.008</td> <td>   74.578</td> <td> 0.000</td> <td>    0.595</td> <td>    0.628</td>\n",
       "</tr>\n",
       "<tr>\n",
       "  <th>x3</th>    <td>    0.2739</td> <td>    0.008</td> <td>   32.574</td> <td> 0.000</td> <td>    0.257</td> <td>    0.290</td>\n",
       "</tr>\n",
       "<tr>\n",
       "  <th>x4</th>    <td>    0.5869</td> <td>    0.008</td> <td>   71.268</td> <td> 0.000</td> <td>    0.571</td> <td>    0.603</td>\n",
       "</tr>\n",
       "<tr>\n",
       "  <th>x5</th>    <td>   -0.6338</td> <td>    0.011</td> <td>  -59.294</td> <td> 0.000</td> <td>   -0.655</td> <td>   -0.613</td>\n",
       "</tr>\n",
       "<tr>\n",
       "  <th>x6</th>    <td>    0.3925</td> <td>    0.015</td> <td>   26.052</td> <td> 0.000</td> <td>    0.363</td> <td>    0.422</td>\n",
       "</tr>\n",
       "<tr>\n",
       "  <th>x7</th>    <td>    0.9514</td> <td>    0.016</td> <td>   58.200</td> <td> 0.000</td> <td>    0.919</td> <td>    0.984</td>\n",
       "</tr>\n",
       "<tr>\n",
       "  <th>x8</th>    <td>    0.6715</td> <td>    0.015</td> <td>   44.538</td> <td> 0.000</td> <td>    0.642</td> <td>    0.701</td>\n",
       "</tr>\n",
       "<tr>\n",
       "  <th>x9</th>    <td>    0.6032</td> <td>    0.015</td> <td>   39.002</td> <td> 0.000</td> <td>    0.573</td> <td>    0.634</td>\n",
       "</tr>\n",
       "</table>\n",
       "<table class=\"simpletable\">\n",
       "<tr>\n",
       "  <th>Omnibus:</th>       <td> 4.730</td> <th>  Durbin-Watson:     </th> <td>   2.097</td>\n",
       "</tr>\n",
       "<tr>\n",
       "  <th>Prob(Omnibus):</th> <td> 0.094</td> <th>  Jarque-Bera (JB):  </th> <td>   4.513</td>\n",
       "</tr>\n",
       "<tr>\n",
       "  <th>Skew:</th>          <td>-0.218</td> <th>  Prob(JB):          </th> <td>   0.105</td>\n",
       "</tr>\n",
       "<tr>\n",
       "  <th>Kurtosis:</th>      <td> 3.163</td> <th>  Cond. No.          </th> <td>4.16e+15</td>\n",
       "</tr>\n",
       "</table><br/><br/>Warnings:<br/>[1] Standard Errors assume that the covariance matrix of the errors is correctly specified.<br/>[2] The smallest eigenvalue is 6.89e-29. This might indicate that there are<br/>strong multicollinearity problems or that the design matrix is singular."
      ],
      "text/plain": [
       "<class 'statsmodels.iolib.summary.Summary'>\n",
       "\"\"\"\n",
       "                            OLS Regression Results                            \n",
       "==============================================================================\n",
       "Dep. Variable:                      y   R-squared:                       0.973\n",
       "Model:                            OLS   Adj. R-squared:                  0.973\n",
       "Method:                 Least Squares   F-statistic:                     2227.\n",
       "Date:                Sat, 01 Feb 2020   Prob (F-statistic):               0.00\n",
       "Time:                        14:00:52   Log-Likelihood:                 457.38\n",
       "No. Observations:                 500   AIC:                            -896.8\n",
       "Df Residuals:                     491   BIC:                            -858.8\n",
       "Df Model:                           8                                         \n",
       "Covariance Type:            nonrobust                                         \n",
       "==============================================================================\n",
       "                 coef    std err          t      P>|t|      [0.025      0.975]\n",
       "------------------------------------------------------------------------------\n",
       "const          1.1811      0.013     88.040      0.000       1.155       1.207\n",
       "x1            -0.2911      0.008    -34.327      0.000      -0.308      -0.274\n",
       "x2             0.6115      0.008     74.578      0.000       0.595       0.628\n",
       "x3             0.2739      0.008     32.574      0.000       0.257       0.290\n",
       "x4             0.5869      0.008     71.268      0.000       0.571       0.603\n",
       "x5            -0.6338      0.011    -59.294      0.000      -0.655      -0.613\n",
       "x6             0.3925      0.015     26.052      0.000       0.363       0.422\n",
       "x7             0.9514      0.016     58.200      0.000       0.919       0.984\n",
       "x8             0.6715      0.015     44.538      0.000       0.642       0.701\n",
       "x9             0.6032      0.015     39.002      0.000       0.573       0.634\n",
       "==============================================================================\n",
       "Omnibus:                        4.730   Durbin-Watson:                   2.097\n",
       "Prob(Omnibus):                  0.094   Jarque-Bera (JB):                4.513\n",
       "Skew:                          -0.218   Prob(JB):                        0.105\n",
       "Kurtosis:                       3.163   Cond. No.                     4.16e+15\n",
       "==============================================================================\n",
       "\n",
       "Warnings:\n",
       "[1] Standard Errors assume that the covariance matrix of the errors is correctly specified.\n",
       "[2] The smallest eigenvalue is 6.89e-29. This might indicate that there are\n",
       "strong multicollinearity problems or that the design matrix is singular.\n",
       "\"\"\""
      ]
     },
     "execution_count": 61,
     "metadata": {},
     "output_type": "execute_result"
    }
   ],
   "source": [
    "X_optimal = X_lr[:,[0,1,2,3,4,5,8,10,11,12]] \n",
    "regressor_OLS = sm.OLS(endog=Y,exog=X_optimal).fit()\n",
    "regressor_OLS.summary()"
   ]
  },
  {
   "cell_type": "markdown",
   "metadata": {},
   "source": [
    "All p-values are less than SL, so X_lr[:,[0,1,2,3,4,5,8,10,11,12]]  is the optimized matrix. Indexes 6,7 and 9 have minimal effect on the dependent variable."
   ]
  },
  {
   "cell_type": "code",
   "execution_count": 43,
   "metadata": {},
   "outputs": [],
   "source": [
    "y_pred = regressor_lr.predict(X_lr)"
   ]
  },
  {
   "cell_type": "markdown",
   "metadata": {},
   "source": [
    "### Plotting the actual values vs the fitted values"
   ]
  },
  {
   "cell_type": "code",
   "execution_count": 44,
   "metadata": {},
   "outputs": [
    {
     "data": {
      "text/plain": [
       "<matplotlib.axes._subplots.AxesSubplot at 0x17183c692e8>"
      ]
     },
     "execution_count": 44,
     "metadata": {},
     "output_type": "execute_result"
    },
    {
     "data": {
      "image/png": "[encoded data removed]",
      "text/plain": [
       "<Figure size 432x288 with 1 Axes>"
      ]
     },
     "metadata": {
      "needs_background": "light"
     },
     "output_type": "display_data"
    }
   ],
   "source": [
    "ax1 = sns.distplot(Y, hist=False, color=\"r\", label=\"Actual Value\")\n",
    "sns.distplot(y_pred, hist=False, color=\"b\", label=\"Fitted Values\" , ax=ax1)"
   ]
  },
  {
   "cell_type": "markdown",
   "metadata": {},
   "source": [
    "### SUPPORT VECTOR REGRESSION\n",
    "The model is built by trying to fit the error within a certain threshold using support vectors and the hyper plane."
   ]
  },
  {
   "cell_type": "code",
   "execution_count": 45,
   "metadata": {},
   "outputs": [],
   "source": [
    "column_trans = make_column_transformer(\n",
    "    (OneHotEncoder(handle_unknown='ignore'), categorical_cols), remainder='passthrough')\n",
    "X_svr = column_trans.fit_transform(df)"
   ]
  },
  {
   "cell_type": "code",
   "execution_count": 46,
   "metadata": {},
   "outputs": [
    {
     "data": {
      "text/plain": [
       "SVR(C=1, cache_size=200, coef0=0.0, degree=3, epsilon=0.1,\n",
       "    gamma='auto_deprecated', kernel='linear', max_iter=-1, shrinking=True,\n",
       "    tol=0.001, verbose=False)"
      ]
     },
     "execution_count": 46,
     "metadata": {},
     "output_type": "execute_result"
    }
   ],
   "source": [
    "from sklearn.svm import SVR\n",
    "regressor_svr = SVR(C=1,kernel='linear') \n",
    "regressor_svr.fit(X_svr,Y)"
   ]
  },
  {
   "cell_type": "markdown",
   "metadata": {},
   "source": [
    "### k-fold cross validation"
   ]
  },
  {
   "cell_type": "code",
   "execution_count": 47,
   "metadata": {},
   "outputs": [
    {
     "name": "stdout",
     "output_type": "stream",
     "text": [
      "0.9702140051480381\n",
      "0.009099664598368681\n"
     ]
    }
   ],
   "source": [
    "accuracies_svr = cross_val_score(estimator=regressor_svr, X= X_svr, y=Y, cv = 10, n_jobs=-1)\n",
    "m_svr = accuracies_svr.mean()    #0.970\n",
    "print (m_svr)\n",
    "s_svr = accuracies_svr.std()\n",
    "print (s_svr)"
   ]
  },
  {
   "cell_type": "markdown",
   "metadata": {},
   "source": [
    "The mean R squared value of the 10 folds for the SVR model is **0.9702**."
   ]
  },
  {
   "cell_type": "markdown",
   "metadata": {},
   "source": [
    "### Hyper-parameter tuning"
   ]
  },
  {
   "cell_type": "code",
   "execution_count": 50,
   "metadata": {},
   "outputs": [
    {
     "name": "stdout",
     "output_type": "stream",
     "text": [
      "{'C': 1, 'kernel': 'linear'}\n"
     ]
    }
   ],
   "source": [
    "from sklearn.model_selection import GridSearchCV\n",
    "clf = GridSearchCV(SVR(gamma='auto'),{\n",
    "        'C' : [1,10,20],\n",
    "        'kernel' : ['rbf','linear']\n",
    "}, cv=5, return_train_score = False)\n",
    "    \n",
    "clf.fit(X_svr,Y)\n",
    "print(clf.best_params_)\n"
   ]
  },
  {
   "cell_type": "markdown",
   "metadata": {},
   "source": [
    "These set of hyper parameter values from the grid search are used in the actual model to give the most optimized result."
   ]
  },
  {
   "cell_type": "code",
   "execution_count": 51,
   "metadata": {},
   "outputs": [],
   "source": [
    "y_pred = regressor_svr.predict(X_svr)"
   ]
  },
  {
   "cell_type": "markdown",
   "metadata": {},
   "source": [
    "### Plotting the actual values vs fitted values"
   ]
  },
  {
   "cell_type": "code",
   "execution_count": 52,
   "metadata": {},
   "outputs": [
    {
     "data": {
      "text/plain": [
       "<matplotlib.axes._subplots.AxesSubplot at 0x17183c37eb8>"
      ]
     },
     "execution_count": 52,
     "metadata": {},
     "output_type": "execute_result"
    },
    {
     "data": {
      "image/png": "[encoded data removed]",
      "text/plain": [
       "<Figure size 432x288 with 1 Axes>"
      ]
     },
     "metadata": {
      "needs_background": "light"
     },
     "output_type": "display_data"
    }
   ],
   "source": [
    "ax1 = sns.distplot(Y, hist=False, color=\"r\", label=\"Actual Value\")\n",
    "sns.distplot(y_pred, hist=False, color=\"b\", label=\"Fitted Values\" , ax=ax1)"
   ]
  },
  {
   "cell_type": "markdown",
   "metadata": {},
   "source": [
    "### DECISION TREE\n",
    "The decision tree algorithm builds the regression model in the form of a tree structure. It breaks the dataset into smaller and smaller subsets. The final subsets are called terminal or leaf nodes. To predict the outcome in each leaf node, the average outcome of training data in this node is used. "
   ]
  },
  {
   "cell_type": "code",
   "execution_count": 53,
   "metadata": {},
   "outputs": [],
   "source": [
    "column_trans = make_column_transformer(\n",
    "    (OneHotEncoder(handle_unknown='ignore'), categorical_cols), remainder='passthrough') #non-strings\n",
    "X_dt = column_trans.fit_transform(df)"
   ]
  },
  {
   "cell_type": "code",
   "execution_count": 54,
   "metadata": {},
   "outputs": [
    {
     "data": {
      "text/plain": [
       "DecisionTreeRegressor(criterion='mse', max_depth=20, max_features=None,\n",
       "                      max_leaf_nodes=None, min_impurity_decrease=0.0,\n",
       "                      min_impurity_split=None, min_samples_leaf=5,\n",
       "                      min_samples_split=10, min_weight_fraction_leaf=0.0,\n",
       "                      presort=False, random_state=0, splitter='best')"
      ]
     },
     "execution_count": 54,
     "metadata": {},
     "output_type": "execute_result"
    }
   ],
   "source": [
    "regressor_dt = DecisionTreeRegressor(max_depth=20,min_samples_leaf=5,min_samples_split=10, random_state=0)\n",
    "regressor_dt.fit(X_dt,Y)"
   ]
  },
  {
   "cell_type": "markdown",
   "metadata": {},
   "source": [
    "### k-fold Cross Validation"
   ]
  },
  {
   "cell_type": "code",
   "execution_count": 55,
   "metadata": {},
   "outputs": [
    {
     "name": "stdout",
     "output_type": "stream",
     "text": [
      "0.7881196076022543\n",
      "0.06365466114848559\n"
     ]
    }
   ],
   "source": [
    "accuracies = cross_val_score(estimator=regressor_dt, X= X_dt, y=Y, cv = 10, n_jobs=-1)\n",
    "m = accuracies.mean()\n",
    "print (m)    #0.788\n",
    "s = accuracies.std()\n",
    "print (s)"
   ]
  },
  {
   "cell_type": "markdown",
   "metadata": {},
   "source": [
    "The mean R squared value of the 10 folds for the decision tree model is **0.788**."
   ]
  },
  {
   "cell_type": "markdown",
   "metadata": {},
   "source": [
    "### Hyper-parameter tuning"
   ]
  },
  {
   "cell_type": "code",
   "execution_count": 56,
   "metadata": {},
   "outputs": [
    {
     "name": "stdout",
     "output_type": "stream",
     "text": [
      "{'max_depth': 20, 'min_samples_leaf': 5, 'min_samples_split': 10}\n"
     ]
    }
   ],
   "source": [
    "from sklearn.model_selection import GridSearchCV\n",
    "clf = GridSearchCV(DecisionTreeRegressor(random_state=0),{\n",
    "        'min_samples_leaf' : [1,5,10,20],\n",
    "        'min_samples_split' : [10,50,20],\n",
    "        'max_depth' : [1,20,2]\n",
    "        }, cv=5, return_train_score = False)\n",
    "    \n",
    "clf.fit(X_dt,Y)\n",
    "clf.cv_results_\n",
    "print(clf.best_params_)"
   ]
  },
  {
   "cell_type": "markdown",
   "metadata": {},
   "source": [
    "These set of hyper parameter values from the grid search are used in the actual model to give the most optimized result."
   ]
  },
  {
   "cell_type": "code",
   "execution_count": 58,
   "metadata": {},
   "outputs": [],
   "source": [
    "y_pred = regressor_dt.predict(X_dt)"
   ]
  },
  {
   "cell_type": "markdown",
   "metadata": {},
   "source": [
    "### Plotting the actual values vs fitted values"
   ]
  },
  {
   "cell_type": "code",
   "execution_count": 59,
   "metadata": {},
   "outputs": [
    {
     "data": {
      "text/plain": [
       "<matplotlib.axes._subplots.AxesSubplot at 0x171866de860>"
      ]
     },
     "execution_count": 59,
     "metadata": {},
     "output_type": "execute_result"
    },
    {
     "data": {
      "image/png": "[encoded data removed]",
      "text/plain": [
       "<Figure size 432x288 with 1 Axes>"
      ]
     },
     "metadata": {
      "needs_background": "light"
     },
     "output_type": "display_data"
    }
   ],
   "source": [
    "ax1 = sns.distplot(Y, hist=False, color=\"r\", label=\"Actual Value\")\n",
    "sns.distplot(y_pred, hist=False, color=\"b\", label=\"Fitted Values\" , ax=ax1)"
   ]
  },
  {
   "cell_type": "markdown",
   "metadata": {},
   "source": [
    "### RANDOM FOREST\n",
    "Random forest is an ensemble technique which aggregates many decision trees and combines their results."
   ]
  },
  {
   "cell_type": "code",
   "execution_count": 30,
   "metadata": {},
   "outputs": [],
   "source": [
    "column_trans = make_column_transformer(\n",
    "    (OneHotEncoder(handle_unknown='ignore'), categorical_cols), remainder='passthrough') #non-strings\n",
    "X_rf = column_trans.fit_transform(df)"
   ]
  },
  {
   "cell_type": "markdown",
   "metadata": {},
   "source": [
    "The n_estimators determines the number of decision trees being aggregated. In this case, 600 decision trees are used to give the most optimal results!"
   ]
  },
  {
   "cell_type": "code",
   "execution_count": 33,
   "metadata": {},
   "outputs": [],
   "source": [
    "from sklearn.ensemble import RandomForestRegressor\n",
    "regressor = RandomForestRegressor(max_features='auto',min_samples_leaf=2, min_samples_split=5,n_estimators = 20, random_state=0)\n",
    "model = regressor.fit(X_rf,Y) "
   ]
  },
  {
   "cell_type": "markdown",
   "metadata": {},
   "source": [
    "### k-fold Cross Validation"
   ]
  },
  {
   "cell_type": "code",
   "execution_count": 34,
   "metadata": {},
   "outputs": [
    {
     "name": "stdout",
     "output_type": "stream",
     "text": [
      "0.8821106318554535\n",
      "0.018558690349625047\n"
     ]
    }
   ],
   "source": [
    "accuracies = cross_val_score(estimator=regressor, X= X_rf, y=Y, cv = 10, n_jobs=-1)\n",
    "m = accuracies.mean()   \n",
    "print (m)\n",
    "s = accuracies.std()\n",
    "print (s)"
   ]
  },
  {
   "cell_type": "markdown",
   "metadata": {},
   "source": [
    "The mean R squared value of the 10 folds for the random forest model is **0.882**."
   ]
  },
  {
   "cell_type": "markdown",
   "metadata": {},
   "source": [
    "### Hyper-parameter Tuning"
   ]
  },
  {
   "cell_type": "code",
   "execution_count": 32,
   "metadata": {},
   "outputs": [
    {
     "data": {
      "text/plain": [
       "{'max_features': 'auto',\n",
       " 'min_samples_leaf': 2,\n",
       " 'min_samples_split': 5,\n",
       " 'n_estimators': 20}"
      ]
     },
     "execution_count": 32,
     "metadata": {},
     "output_type": "execute_result"
    }
   ],
   "source": [
    "from sklearn.model_selection import GridSearchCV\n",
    "clf = GridSearchCV(RandomForestRegressor(random_state=0),{\n",
    "        'n_estimators' : [10,20,20],\n",
    "        'min_samples_split' : [2,5,10],\n",
    "        'max_features' : ['auto','sqrt'],\n",
    "        'min_samples_leaf' : [1,2,4]\n",
    "        }, cv=5, return_train_score = False)\n",
    "    \n",
    "clf.fit(X_rf,Y)\n",
    "clf.best_params_\n"
   ]
  },
  {
   "cell_type": "markdown",
   "metadata": {},
   "source": [
    "These set of hyper parameter values from the grid search are used in the actual model to give the most optimized result"
   ]
  },
  {
   "cell_type": "code",
   "execution_count": null,
   "metadata": {},
   "outputs": [],
   "source": [
    "y_pred = regressor.predict(X_rf)"
   ]
  },
  {
   "cell_type": "markdown",
   "metadata": {},
   "source": [
    "### Plotting the actual values vs fitted values"
   ]
  },
  {
   "cell_type": "code",
   "execution_count": 60,
   "metadata": {},
   "outputs": [
    {
     "data": {
      "text/plain": [
       "<matplotlib.axes._subplots.AxesSubplot at 0x171866969b0>"
      ]
     },
     "execution_count": 60,
     "metadata": {},
     "output_type": "execute_result"
    },
    {
     "data": {
      "image/png": "[encoded data removed]",
      "text/plain": [
       "<Figure size 432x288 with 1 Axes>"
      ]
     },
     "metadata": {
      "needs_background": "light"
     },
     "output_type": "display_data"
    }
   ],
   "source": [
    "ax1 = sns.distplot(Y, hist=False, color=\"r\", label=\"Actual Value\")\n",
    "sns.distplot(y_pred, hist=False, color=\"b\", label=\"Fitted Values\" , ax=ax1)"
   ]
  },
  {
   "cell_type": "markdown",
   "metadata": {},
   "source": [
    "## INFERENCE\n",
    "Comparing the R squared values of the above models, we see that the **multiple linear regression model** has the best performance. This is probably because the other models are unable to find good non-linear boundaries with just 500 datapoints.\n",
    "The benefits of non-linear approches are seen only when data is large and diverse. This also proves why SVR performs better when the kernel hyperparmeter is set to 'linear'. \n",
    "\n",
    "Now, we predict the dependent variable on test data using the multiple linear regressor. "
   ]
  },
  {
   "cell_type": "code",
   "execution_count": 81,
   "metadata": {},
   "outputs": [
    {
     "data": {
      "text/html": [
       "<div>\n",
       "<style scoped>\n",
       "    .dataframe tbody tr th:only-of-type {\n",
       "        vertical-align: middle;\n",
       "    }\n",
       "\n",
       "    .dataframe tbody tr th {\n",
       "        vertical-align: top;\n",
       "    }\n",
       "\n",
       "    .dataframe thead th {\n",
       "        text-align: right;\n",
       "    }\n",
       "</style>\n",
       "<table border=\"1\" class=\"dataframe\">\n",
       "  <thead>\n",
       "    <tr style=\"text-align: right;\">\n",
       "      <th></th>\n",
       "      <th>a</th>\n",
       "      <th>b</th>\n",
       "      <th>c</th>\n",
       "      <th>d</th>\n",
       "      <th>e</th>\n",
       "      <th>f</th>\n",
       "      <th>g</th>\n",
       "      <th>h</th>\n",
       "      <th>y</th>\n",
       "    </tr>\n",
       "    <tr>\n",
       "      <th>i</th>\n",
       "      <th></th>\n",
       "      <th></th>\n",
       "      <th></th>\n",
       "      <th></th>\n",
       "      <th></th>\n",
       "      <th></th>\n",
       "      <th></th>\n",
       "      <th></th>\n",
       "      <th></th>\n",
       "    </tr>\n",
       "  </thead>\n",
       "  <tbody>\n",
       "    <tr>\n",
       "      <th>1</th>\n",
       "      <td>0.213254</td>\n",
       "      <td>0.707218</td>\n",
       "      <td>green</td>\n",
       "      <td>0.206151</td>\n",
       "      <td>0.010148</td>\n",
       "      <td>0.190193</td>\n",
       "      <td>0.497651</td>\n",
       "      <td>black</td>\n",
       "      <td>1.878906</td>\n",
       "    </tr>\n",
       "    <tr>\n",
       "      <th>2</th>\n",
       "      <td>0.867987</td>\n",
       "      <td>0.494110</td>\n",
       "      <td>green</td>\n",
       "      <td>0.510344</td>\n",
       "      <td>0.922549</td>\n",
       "      <td>0.649631</td>\n",
       "      <td>0.952224</td>\n",
       "      <td>black</td>\n",
       "      <td>3.242188</td>\n",
       "    </tr>\n",
       "    <tr>\n",
       "      <th>3</th>\n",
       "      <td>0.419168</td>\n",
       "      <td>0.579660</td>\n",
       "      <td>yellow</td>\n",
       "      <td>0.832660</td>\n",
       "      <td>0.351641</td>\n",
       "      <td>0.105251</td>\n",
       "      <td>0.277489</td>\n",
       "      <td>white</td>\n",
       "      <td>2.564453</td>\n",
       "    </tr>\n",
       "    <tr>\n",
       "      <th>4</th>\n",
       "      <td>0.706512</td>\n",
       "      <td>0.948891</td>\n",
       "      <td>blue</td>\n",
       "      <td>0.546916</td>\n",
       "      <td>0.771624</td>\n",
       "      <td>0.683572</td>\n",
       "      <td>0.311848</td>\n",
       "      <td>white</td>\n",
       "      <td>2.638672</td>\n",
       "    </tr>\n",
       "    <tr>\n",
       "      <th>5</th>\n",
       "      <td>0.344634</td>\n",
       "      <td>0.942960</td>\n",
       "      <td>yellow</td>\n",
       "      <td>0.570995</td>\n",
       "      <td>0.315698</td>\n",
       "      <td>0.651284</td>\n",
       "      <td>0.677366</td>\n",
       "      <td>white</td>\n",
       "      <td>3.283203</td>\n",
       "    </tr>\n",
       "  </tbody>\n",
       "</table>\n",
       "</div>"
      ],
      "text/plain": [
       "          a         b       c         d         e         f         g      h  \\\n",
       "i                                                                              \n",
       "1  0.213254  0.707218   green  0.206151  0.010148  0.190193  0.497651  black   \n",
       "2  0.867987  0.494110   green  0.510344  0.922549  0.649631  0.952224  black   \n",
       "3  0.419168  0.579660  yellow  0.832660  0.351641  0.105251  0.277489  white   \n",
       "4  0.706512  0.948891    blue  0.546916  0.771624  0.683572  0.311848  white   \n",
       "5  0.344634  0.942960  yellow  0.570995  0.315698  0.651284  0.677366  white   \n",
       "\n",
       "          y  \n",
       "i            \n",
       "1  1.878906  \n",
       "2  3.242188  \n",
       "3  2.564453  \n",
       "4  2.638672  \n",
       "5  3.283203  "
      ]
     },
     "execution_count": 81,
     "metadata": {},
     "output_type": "execute_result"
    }
   ],
   "source": [
    "y = regressor_lr.predict(X_test)\n",
    "test.index = np.arange(1,len(test)+1) \n",
    "test.index.names =['i']\n",
    "test['y'] = y\n",
    "test.head()\n",
    "#print(test)"
   ]
  },
  {
   "cell_type": "markdown",
   "metadata": {},
   "source": [
    "## Further insights can be seen from the following data visualization in Tableau:\n",
    "https://public.tableau.com/shared/4T34J5DGT?:display_count=y&:origin=viz_share_link"
   ]
  }
 ],
 "metadata": {
  "kernelspec": {
   "display_name": "Python 3",
   "language": "python",
   "name": "python3"
  },
  "language_info": {
   "codemirror_mode": {
    "name": "ipython",
    "version": 3
   },
   "file_extension": ".py",
   "mimetype": "text/x-python",
   "name": "python",
   "nbconvert_exporter": "python",
   "pygments_lexer": "ipython3",
   "version": "3.7.3"
  }
 },
 "nbformat": 4,
 "nbformat_minor": 2
}
