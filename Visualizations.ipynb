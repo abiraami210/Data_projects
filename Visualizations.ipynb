{
 "cells": [
  {
   "cell_type": "markdown",
   "metadata": {},
   "source": [
    "## VISUALIZATIONS\n",
    "I have a lot of experience working and managing large sets of data to create timely, accurate and useful reports. I have a deep understanding of Tableau, Excel and SQL. I love creating visually appealing dashboards as well as cleaning and managing large sets of data.  I use storytelling to show insights into complex data.\n",
    "I taught myself about the subject of data visualization and I also started creating personal projects. The following is a link to my visualization projects in Tableau:\n",
    "\n",
    "https://public.tableau.com/profile/abiraami#!/\n",
    "\n",
    "Less is more! I take pride in providing visualizations and analysis to help make decisions, move a project forward and support business."
   ]
  }
 ],
 "metadata": {
  "kernelspec": {
   "display_name": "Python 3",
   "language": "python",
   "name": "python3"
  },
  "language_info": {
   "codemirror_mode": {
    "name": "ipython",
    "version": 3
   },
   "file_extension": ".py",
   "mimetype": "text/x-python",
   "name": "python",
   "nbconvert_exporter": "python",
   "pygments_lexer": "ipython3",
   "version": "3.7.3"
  }
 },
 "nbformat": 4,
 "nbformat_minor": 2
}
