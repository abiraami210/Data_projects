{
 "cells": [
  {
   "cell_type": "markdown",
   "metadata": {},
   "source": [
    "# Predicting Diseases from Genes\n",
    "\n",
    "The breast cancer dataset is downloaded from Firehose (https://gdac.broadinstitute.org/). These are next generation sequencing data that are provided already normalized. \n",
    "\n",
    "We are comparing two classifiers - KNN (K-nearest neighbor) and RandomForest (a classifier in the rule / tree family).\n",
    "\n",
    "Each time we are going to build the models on the top 100 genes selected through bss/wss, once using the training set as a test set, and next using the training set as 70% of the whole dataset, and the test set as 30%. We expect the classification accuracy to drop when moving from testing on the training set and training on 70% of the data. \n",
    "\n",
    "\n",
    "## Preparing the environment\n",
    "\n",
    "The processes employed to build the predictive model uses quite a bit of RAM memory, therefore we first allocate this memory by increasaing the program memory size to 3.5GB (= 3,500 MB). We also load some libraries used for analysis - 'class' and 'randomForest'."
   ]
  },
  {
   "cell_type": "code",
   "execution_count": null,
   "metadata": {},
   "outputs": [],
   "source": [
    "memory.limit(size=3500)\n",
    "library(randomForest)\n",
    "library(class)"
   ]
  },
  {
   "cell_type": "markdown",
   "metadata": {},
   "source": [
    "## Loading the data\n",
    "\n",
    "We load the data. We create a dataframe 'mrnaNorm' with the gene expression values and the first column being the gene names. The second dataframe 'mrnaIDs' contains the IDs of the patients. "
   ]
  },
  {
   "cell_type": "code",
   "execution_count": 2,
   "metadata": {},
   "outputs": [],
   "source": [
    "mrnaNorm <- read.table(\"/data/BRCA.rnaseqv2__illuminahiseq_rnaseqv2__unc_edu__Level_3__RSEM_genes_normalized__data.data.txt\", \n",
    "            header = F, fill = T, skip = 2)\n",
    "mrnaIDs <- read.table(\"/data/BRCA.rnaseqv2__illuminahiseq_rnaseqv2__unc_edu__Level_3__RSEM_genes_normalized__data.data.txt\", \n",
    "            header = F, fill = T, nrows = 1)\n",
    "mrnaIDs <- mrnaIDs[, -1][, -1]"
   ]
  },
  {
   "cell_type": "markdown",
   "metadata": {},
   "source": [
    "## Data preprocessing\n",
    "\n",
    "'mrnaClass' and 'mrnaClassNum' are created and contain the diagnostic class - 0 for normal and 1 for tumor."
   ]
  },
  {
   "cell_type": "code",
   "execution_count": 3,
   "metadata": {},
   "outputs": [
    {
     "data": {
      "text/html": [
       "<ol class=list-inline>\n",
       "\t<li>20531</li>\n",
       "\t<li>1213</li>\n",
       "</ol>\n"
      ],
      "text/latex": [
       "\\begin{enumerate*}\n",
       "\\item 20531\n",
       "\\item 1213\n",
       "\\end{enumerate*}\n"
      ],
      "text/markdown": [
       "1. 20531\n",
       "2. 1213\n",
       "\n",
       "\n"
      ],
      "text/plain": [
       "[1] 20531  1213"
      ]
     },
     "execution_count": 3,
     "metadata": {},
     "output_type": "execute_result"
    },
    {
     "data": {
      "text/html": [
       "<ol class=list-inline>\n",
       "\t<li>1</li>\n",
       "\t<li>1212</li>\n",
       "</ol>\n"
      ],
      "text/latex": [
       "\\begin{enumerate*}\n",
       "\\item 1\n",
       "\\item 1212\n",
       "\\end{enumerate*}\n"
      ],
      "text/markdown": [
       "1. 1\n",
       "2. 1212\n",
       "\n",
       "\n"
      ],
      "text/plain": [
       "[1]    1 1212"
      ]
     },
     "execution_count": 3,
     "metadata": {},
     "output_type": "execute_result"
    },
    {
     "data": {
      "text/html": [
       "<ol class=list-inline>\n",
       "\t<li>1</li>\n",
       "\t<li>1212</li>\n",
       "</ol>\n"
      ],
      "text/latex": [
       "\\begin{enumerate*}\n",
       "\\item 1\n",
       "\\item 1212\n",
       "\\end{enumerate*}\n"
      ],
      "text/markdown": [
       "1. 1\n",
       "2. 1212\n",
       "\n",
       "\n"
      ],
      "text/plain": [
       "[1]    1 1212"
      ]
     },
     "execution_count": 3,
     "metadata": {},
     "output_type": "execute_result"
    },
    {
     "data": {
      "text/plain": [
       "\n",
       "   0    1 \n",
       " 112 1100 "
      ]
     },
     "execution_count": 3,
     "metadata": {},
     "output_type": "execute_result"
    }
   ],
   "source": [
    "samp <- lapply(as.list(t(mrnaIDs)), function(t) substr(unlist(strsplit(t, \"-\"))[4], 1, 2))\n",
    "sampleType <- as.data.frame(samp)\n",
    "sampClass <- lapply(samp, function(t) (if (t < 10) return(\"1\") else return(\"0\")))\n",
    "mrnaClass <- as.data.frame(sampClass)\n",
    "dim(mrnaNorm)\n",
    "# 20531 1213 columns are patients (except the 1st for gene name) rows are expression levels for each gene\n",
    "dim(mrnaIDs)\n",
    "# 1 1213   the first column is the gene name, the others are one patient per row\n",
    "dim(mrnaClass)\n",
    "# 1 1212 one patients per row   1 = tumor, 0 = normal\n",
    "table(unlist(sampClass))\n",
    "#   0    1 \n",
    "# 112 1100                     112 normals and 1100 tumor\n",
    "sampClassNum <- lapply(samp, function(t) (if (t < 10) return(1) else return(0)))\n",
    "mrnaClassNum <- as.data.frame(sampClassNum) "
   ]
  },
  {
   "cell_type": "markdown",
   "metadata": {},
   "source": [
    "We also create a dataframe with only the gene names, called 'geneNames', which are located in the first column of 'mrnaNorm', which we extract."
   ]
  },
  {
   "cell_type": "code",
   "execution_count": 4,
   "metadata": {},
   "outputs": [
    {
     "data": {
      "text/html": [
       "<ol class=list-inline>\n",
       "\t<li>20531</li>\n",
       "\t<li>1</li>\n",
       "</ol>\n"
      ],
      "text/latex": [
       "\\begin{enumerate*}\n",
       "\\item 20531\n",
       "\\item 1\n",
       "\\end{enumerate*}\n"
      ],
      "text/markdown": [
       "1. 20531\n",
       "2. 1\n",
       "\n",
       "\n"
      ],
      "text/plain": [
       "[1] 20531     1"
      ]
     },
     "execution_count": 4,
     "metadata": {},
     "output_type": "execute_result"
    }
   ],
   "source": [
    "geneNames <- mrnaNorm[1] # extract the gene names from mrnaNorm as its first column\n",
    "dim(geneNames)\n",
    "# 20531 genes"
   ]
  },
  {
   "cell_type": "markdown",
   "metadata": {},
   "source": [
    "First we transpose the 'mrnaNorm' dataframe because we want to select genes, therefore they have to be represented in columns instead of rows. We also remove the first column of 'mrnaNorm' since it contains the gene names.\n",
    "Because we are working with large datasets, we free space from memory by removing the objects we will not be using anymore. 'gc' garbage collects the free space, which will leave more space for building the models. The column 'used' and right after it '(Mb)' indicates the memory in use."
   ]
  },
  {
   "cell_type": "code",
   "execution_count": 5,
   "metadata": {},
   "outputs": [
    {
     "data": {
      "text/html": [
       "<table>\n",
       "<thead><tr><th></th><th scope=col>used</th><th scope=col>(Mb)</th><th scope=col>gc trigger</th><th scope=col>(Mb)</th><th scope=col>max used</th><th scope=col>(Mb)</th></tr></thead>\n",
       "<tbody>\n",
       "\t<tr><th scope=row>Ncells</th><td>  378210.0</td><td>      20.2</td><td> 7681500.0</td><td>     410.3</td><td>12002346.0</td><td>     641.0</td></tr>\n",
       "\t<tr><th scope=row>Vcells</th><td>29671189.0</td><td>     226.4</td><td>86836832.0</td><td>     662.6</td><td>86823185.0</td><td>     662.5</td></tr>\n",
       "</tbody>\n",
       "</table>\n"
      ],
      "text/latex": [
       "\\begin{tabular}{r|llllll}\n",
       "  & used & (Mb) & gc trigger & (Mb) & max used & (Mb)\\\\\n",
       "\\hline\n",
       "\tNcells &   378210.0 &       20.2 &  7681500.0 &      410.3 & 12002346.0 &      641.0\\\\\n",
       "\tVcells & 29671189.0 &      226.4 & 86836832.0 &      662.6 & 86823185.0 &      662.5\\\\\n",
       "\\end{tabular}\n"
      ],
      "text/markdown": [
       "1. 378210\n",
       "2. 29671189\n",
       "3. 20.2\n",
       "4. 226.4\n",
       "5. 7681500\n",
       "6. 86836832\n",
       "7. 410.3\n",
       "8. 662.6\n",
       "9. 12002346\n",
       "10. 86823185\n",
       "11. 641\n",
       "12. 662.5\n",
       "\n",
       "\n"
      ],
      "text/plain": [
       "           used  (Mb) gc trigger  (Mb) max used  (Mb)\n",
       "Ncells   378210  20.2    7681500 410.3 12002346 641.0\n",
       "Vcells 29671189 226.4   86836832 662.6 86823185 662.5"
      ]
     },
     "execution_count": 5,
     "metadata": {},
     "output_type": "execute_result"
    }
   ],
   "source": [
    "mrnaData = t(mrnaNorm[, -1]) # remove first column of mrnaData and transpose it to have genes as columns\n",
    "rm(samp)\n",
    "rm(sampClass)\n",
    "rm(mrnaNorm)\n",
    "gc()"
   ]
  },
  {
   "cell_type": "markdown",
   "metadata": {},
   "source": [
    "## Classification / prediction on all features\n",
    "\n",
    "It is possible to run the classification model on all 20,531 genes, however the processing lasts several minutes. For this reason, we are going to first select features before the classification to make it very efficient. \n",
    "\n",
    "The code below runs KNN on all features, it takes too long to run."
   ]
  },
  {
   "cell_type": "code",
   "execution_count": null,
   "metadata": {},
   "outputs": [],
   "source": [
    "trainSet <- mrnaData\n",
    "testSet <- mrnaData\n",
    "trainClasses <- unlist(mrnaClassNum[1,], use.names=FALSE)\n",
    "testClasses <- unlist(mrnaClassNum[1,], use.names=FALSE)\n",
    "knn.predic <- knn(trainSet, testSet, trainClasses, testClasses,k=1)\n",
    "cbr.predic = as.vector(knn.predic)\n",
    "table(cbr.predic, testClasses)\n",
    "tab <- table(cbr.predic, t(testClasses))\n",
    "error <- sum(tab) - sum(diag(tab))\n",
    "accuracy <- round(100- (error * 100 / length(testClasses)))\n",
    "#print(paste(\"accuracy= \", as.character(accuracy), \"%\"), quote=FALSE)"
   ]
  },
  {
   "cell_type": "markdown",
   "metadata": {},
   "source": [
    "## Feature selection with bss/wss\n",
    "\n",
    "Again, we select top genes with bss/wss. First we load the bssWssFast function."
   ]
  },
  {
   "cell_type": "code",
   "execution_count": 6,
   "metadata": {
    "collapsed": true
   },
   "outputs": [],
   "source": [
    "bssWssFast <- function (X, givenClassArr, numClass=2)\n",
    "# between squares / within square feature selection\n",
    "{\n",
    "\tclassVec <- matrix(0, numClass, length(givenClassArr))\n",
    "\tfor (k in 1:numClass) {\n",
    "\t\ttemp <- rep(0, length(givenClassArr))\n",
    "\t\ttemp[givenClassArr == (k - 1)] <- 1\n",
    "\t\tclassVec[k, ] <- temp\n",
    "\t}\n",
    "\tclassMeanArr <- rep(0, numClass)\n",
    "\tratio <- rep(0, ncol(X))\n",
    "\tfor (j in 1:ncol(X)) {\n",
    "\t\toverallMean <- sum(X[, j]) / length(X[, j])\n",
    "\t\tfor (k in 1:numClass) {\n",
    "\t\t\tclassMeanArr[k] <- \n",
    "\t\t\t\tsum(classVec[k, ] * X[, j]) / sum(classVec[k, ])\n",
    "\t\t}\n",
    "\t  classMeanVec <- classMeanArr[givenClassArr + 1]\n",
    "\t  bss <- sum((classMeanVec - overallMean)^2)\n",
    "\t  wss <- sum((X[, j] - classMeanVec)^2)\n",
    "\t  ratio[j] <- bss/wss\n",
    "\t}\n",
    "      sort(ratio, decreasing = TRUE, index = TRUE)\n",
    "}"
   ]
  },
  {
   "cell_type": "markdown",
   "metadata": {},
   "source": [
    "Then we again run 'bssWssFast' on our large dataset to rank the features within and across classes. We work from mrnaData, which is the transposed datafrom from 'mrnaNorm' dataframe because we want to select genes, therefore they have to be represented in columns instead of rows."
   ]
  },
  {
   "cell_type": "code",
   "execution_count": 7,
   "metadata": {},
   "outputs": [
    {
     "data": {
      "text/html": [
       "<ol class=list-inline>\n",
       "\t<li>1212</li>\n",
       "\t<li>20531</li>\n",
       "</ol>\n"
      ],
      "text/latex": [
       "\\begin{enumerate*}\n",
       "\\item 1212\n",
       "\\item 20531\n",
       "\\end{enumerate*}\n"
      ],
      "text/markdown": [
       "1. 1212\n",
       "2. 20531\n",
       "\n",
       "\n"
      ],
      "text/plain": [
       "[1]  1212 20531"
      ]
     },
     "execution_count": 7,
     "metadata": {},
     "output_type": "execute_result"
    },
    {
     "data": {
      "text/html": [
       "<ol class=list-inline>\n",
       "\t<li>1</li>\n",
       "\t<li>1212</li>\n",
       "</ol>\n"
      ],
      "text/latex": [
       "\\begin{enumerate*}\n",
       "\\item 1\n",
       "\\item 1212\n",
       "\\end{enumerate*}\n"
      ],
      "text/markdown": [
       "1. 1\n",
       "2. 1212\n",
       "\n",
       "\n"
      ],
      "text/plain": [
       "[1]    1 1212"
      ]
     },
     "execution_count": 7,
     "metadata": {},
     "output_type": "execute_result"
    },
    {
     "data": {
      "text/html": [
       "<ol class=list-inline>\n",
       "\t<li>1</li>\n",
       "\t<li>1212</li>\n",
       "</ol>\n"
      ],
      "text/latex": [
       "\\begin{enumerate*}\n",
       "\\item 1\n",
       "\\item 1212\n",
       "\\end{enumerate*}\n"
      ],
      "text/markdown": [
       "1. 1\n",
       "2. 1212\n",
       "\n",
       "\n"
      ],
      "text/plain": [
       "[1]    1 1212"
      ]
     },
     "execution_count": 7,
     "metadata": {},
     "output_type": "execute_result"
    },
    {
     "data": {
      "text/html": [
       "<ol class=list-inline>\n",
       "\t<li>20531</li>\n",
       "\t<li>1</li>\n",
       "</ol>\n"
      ],
      "text/latex": [
       "\\begin{enumerate*}\n",
       "\\item 20531\n",
       "\\item 1\n",
       "\\end{enumerate*}\n"
      ],
      "text/markdown": [
       "1. 20531\n",
       "2. 1\n",
       "\n",
       "\n"
      ],
      "text/plain": [
       "[1] 20531     1"
      ]
     },
     "execution_count": 7,
     "metadata": {},
     "output_type": "execute_result"
    }
   ],
   "source": [
    "# select features\n",
    "dim(mrnaData)\n",
    "# 1212 20531  matrix\n",
    "dim(mrnaClass)\n",
    "# 1 1212\n",
    "dim(mrnaClassNum)\n",
    "# 1 1212\n",
    "dim(geneNames)\n",
    "# 20531 genes\n",
    "bss <- bssWssFast(mrnaData, t(mrnaClassNum), 2)"
   ]
  },
  {
   "cell_type": "markdown",
   "metadata": {},
   "source": [
    "## Classification / prediction on selected features on training set\n",
    "\n",
    "First we are going to build a classification model on the complete dataset as a training set, then test its performance on the same complete dataset. We call that testing on the training set. \n",
    "\n",
    "We extract the top 100 gene expressions and place them in 'mrnaDataReduced'.\n",
    "\n",
    "We create a 'trainSet' and 'testSet' which are identical because we are going to test the model on the training set.\n",
    "\n",
    "We extract the 'trainClasses' and 'testClasses' from mrnaClassNum. Since classification / prediction is a supervised model, we give the models the classes we know for training, then use these classes for testing whether a model predicts the right class."
   ]
  },
  {
   "cell_type": "code",
   "execution_count": 8,
   "metadata": {},
   "outputs": [
    {
     "data": {
      "text/html": [
       "<ol class=list-inline>\n",
       "\t<li>1212</li>\n",
       "\t<li>100</li>\n",
       "</ol>\n"
      ],
      "text/latex": [
       "\\begin{enumerate*}\n",
       "\\item 1212\n",
       "\\item 100\n",
       "\\end{enumerate*}\n"
      ],
      "text/markdown": [
       "1. 1212\n",
       "2. 100\n",
       "\n",
       "\n"
      ],
      "text/plain": [
       "[1] 1212  100"
      ]
     },
     "execution_count": 8,
     "metadata": {},
     "output_type": "execute_result"
    }
   ],
   "source": [
    "mrnaDataReduced <- mrnaData[,bss$ix[1:100]]\n",
    "dim(mrnaDataReduced)\n",
    "# 1212  100\n",
    "trainSet <- mrnaDataReduced\n",
    "testSet <- mrnaDataReduced\n",
    "trainClasses <- unlist(mrnaClassNum[1,], use.names=FALSE)\n",
    "# or as.numeric(mrnaClassNum[1,])\n",
    "testClasses <- unlist(mrnaClassNum[1,], use.names=FALSE)"
   ]
  },
  {
   "cell_type": "markdown",
   "metadata": {},
   "source": [
    "### KNN on selected features on training set\n",
    "\n",
    "First, we are going to build a KNN model on this reduced dataset of 100 genes and 1212 patients / normals with 112 normals and 1100 tumor patients.\n",
    "\n",
    "We pass to the 'knn' function, from the 'class' package, a training set, a test set, the list of classes for the training set, and the lsit of classes for the test set.\n",
    "\n",
    "We then build the confusion matrix as: \n",
    "\n",
    "            testClasses\n",
    "knn.predic    0    1\n",
    "         0  112    0\n",
    "         1    0 1100\n",
    "\n",
    "which shows that from test classes of value 0, 112 are predicted as value 0, and from the test classes of value 1, 1100 are predicted as 1. \n",
    "This yields an accuracy of 100%, being calculated as TP + TN / TP + FP + TN + FN = (1100 + 112) / (1100 + 0 + 112 + 0).\n",
    "\n",
    "It cannot get better than that - very fast, perfect result."
   ]
  },
  {
   "cell_type": "code",
   "execution_count": 9,
   "metadata": {},
   "outputs": [
    {
     "data": {
      "text/plain": [
       "          testClasses\n",
       "knn.predic    0    1\n",
       "         0  112    0\n",
       "         1    0 1100"
      ]
     },
     "execution_count": 9,
     "metadata": {},
     "output_type": "execute_result"
    },
    {
     "name": "stdout",
     "output_type": "stream",
     "text": [
      "[1] accuracy=  100 %\n"
     ]
    }
   ],
   "source": [
    "knn.predic <- knn(trainSet, testSet, trainClasses, testClasses,k=1) # knn form 'class' package\n",
    "knn.predic = as.vector(knn.predic)  # change knn.predic to become a vector\n",
    "table(knn.predic, testClasses)      # build the confusion matrix\n",
    "tab <- table(knn.predic, t(testClasses))\n",
    "error <- sum(tab) - sum(diag(tab))  # calculate acuracy\n",
    "accuracy <- round(100- (error * 100 / length(testClasses)))\n",
    "print(paste(\"accuracy= \", as.character(accuracy), \"%\"), quote=FALSE)   # display acuracy after formating it as a character string"
   ]
  },
  {
   "cell_type": "markdown",
   "metadata": {},
   "source": [
    "### RandomForest on selected features on training set\n",
    "\n",
    "Now let us compare the same easy scenario with RandomForest from 'randomForest' package.\n",
    "\n",
    "The 'rf' function, which builds the RandomForest, takes slightly different arguments than 'knn'.\n",
    "\n",
    "First, instead of having separate gene expressions set and diagnostic class set, it takes only one dataframe. Therefore we concatenate with 'cbind' the gene expressions and the diagnostic class 0/1.\n",
    "\n",
    "Next, the target class needs to have a name, which we choose as 'class'. \n",
    "\n",
    "In addition, for classification, the target variable, here 'class', needs to be categorical, which is obtained by applying 'as.factor'.\n",
    "\n",
    "Finally, there are two steps. First building the model with 'randomForest', then testing it on the test set with 'predict'.\n",
    "\n",
    "We run, and bingo, we get another 100% acuracy. \n",
    "\n",
    "So KNN and RandomForest are tied on the training set. \n",
    "\n",
    "We are going to break the tie by using a different training set and test set. In other words, we are going to raise the bar in difficulty. It is like in a sport competition."
   ]
  },
  {
   "cell_type": "code",
   "execution_count": 10,
   "metadata": {},
   "outputs": [
    {
     "data": {
      "text/html": [
       "'factor'"
      ],
      "text/latex": [
       "'factor'"
      ],
      "text/markdown": [
       "'factor'"
      ],
      "text/plain": [
       "[1] \"factor\""
      ]
     },
     "execution_count": 10,
     "metadata": {},
     "output_type": "execute_result"
    },
    {
     "data": {
      "text/plain": [
       "         testClasses\n",
       "rf.predic    0    1\n",
       "        0  112    0\n",
       "        1    0 1100"
      ]
     },
     "execution_count": 10,
     "metadata": {},
     "output_type": "execute_result"
    },
    {
     "name": "stdout",
     "output_type": "stream",
     "text": [
      "[1] accuracy=  100 %\n"
     ]
    }
   ],
   "source": [
    "trainSetClass <- as.data.frame(cbind(trainSet, t(mrnaClassNum[1,])))  # concatenate gene expressions and class data\n",
    "testSetClass <- as.data.frame(cbind(testSet, t(mrnaClassNum[1,])))    # concatenate gene expressions and class data\n",
    "colnames(trainSetClass)[101] <- \"class\"     # give a name to the class column\n",
    "#trainSetClass$class <- as.numeric(trainSetClass$class) # for regression\n",
    "trainSetClass$class <- as.factor(trainSetClass$class)  # for classification\n",
    "class(trainSetClass$class)      # should be factor or categorical for classification\n",
    "rf <- randomForest(class ~., trainSetClass,\n",
    "                              ntree=100,\n",
    "                              importance=T)      # build randomForest classifier\n",
    "colnames(testSetClass)[101] <- \"class\"     # give a name to the class column\n",
    "testSetClass$class <- as.factor(testSetClass$class)  # for classification\n",
    "rf.predic <- predict(rf ,testSetClass)  # test the randomForest built model on the test set\n",
    "rf.predic = as.vector(rf.predic)        # change rf.predic to become a vector\n",
    "table(rf.predic, testClasses)           # build the confusion matrix\n",
    "tab <- table(rf.predic, t(testClasses))\n",
    "error <- sum(tab) - sum(diag(tab))      # calculate acuracy\n",
    "accuracy <- round(100- (error * 100 / length(testClasses)))\n",
    "print(paste(\"accuracy= \", as.character(accuracy), \"%\"), quote=FALSE)"
   ]
  },
  {
   "cell_type": "markdown",
   "metadata": {},
   "source": [
    "## Classification / prediction on selected features on independent test set\n",
    "\n",
    "In this experiment, we are first going to separate the dataset into two sets:\n",
    "\n",
    "1) a training set composed of 70% of the data samples\n",
    "2) a test set composed of 30% of the data samples.\n",
    "\n",
    "After that, all the steps will be the same and we are going to compare classification accuracy between KNN and RandomForest.\n",
    "\n",
    "To split the dataset, there is a 'sample' function in R which here will take 70% of the rows. The rest will be the test set.\n",
    "\n",
    "Therefore our training set will have 848 rows, and our test set will have 364 rows."
   ]
  },
  {
   "cell_type": "code",
   "execution_count": 12,
   "metadata": {},
   "outputs": [
    {
     "data": {
      "text/html": [
       "<ol class=list-inline>\n",
       "\t<li>848</li>\n",
       "\t<li>100</li>\n",
       "</ol>\n"
      ],
      "text/latex": [
       "\\begin{enumerate*}\n",
       "\\item 848\n",
       "\\item 100\n",
       "\\end{enumerate*}\n"
      ],
      "text/markdown": [
       "1. 848\n",
       "2. 100\n",
       "\n",
       "\n"
      ],
      "text/plain": [
       "[1] 848 100"
      ]
     },
     "execution_count": 12,
     "metadata": {},
     "output_type": "execute_result"
    },
    {
     "data": {
      "text/html": [
       "<ol class=list-inline>\n",
       "\t<li>364</li>\n",
       "\t<li>100</li>\n",
       "</ol>\n"
      ],
      "text/latex": [
       "\\begin{enumerate*}\n",
       "\\item 364\n",
       "\\item 100\n",
       "\\end{enumerate*}\n"
      ],
      "text/markdown": [
       "1. 364\n",
       "2. 100\n",
       "\n",
       "\n"
      ],
      "text/plain": [
       "[1] 364 100"
      ]
     },
     "execution_count": 12,
     "metadata": {},
     "output_type": "execute_result"
    }
   ],
   "source": [
    "# cell #12\n",
    "nbRows <- nrow(mrnaDataReduced)\n",
    "set.seed(33)       # seet random seed so that we always get same samples drawn - since they are random\n",
    "trainRows <- sample(1:nbRows, .70*nbRows)\n",
    "trainSet <- mrnaDataReduced[trainRows, ]\n",
    "testSet <- mrnaDataReduced[-trainRows, ]\n",
    "dim(trainSet)\n",
    "dim(testSet)"
   ]
  },
  {
   "cell_type": "markdown",
   "metadata": {},
   "source": [
    "#### KNN on selected features on independent test set\n",
    "\n",
    "We run again KNN on the different training and test sets and obtain a classification accuracy of 99%. We have 5 errors on 364 data samples, which is a very high result. The exact figure is:\n",
    "\n",
    "360 / 364 = 98.90%"
   ]
  },
  {
   "cell_type": "code",
   "execution_count": 13,
   "metadata": {},
   "outputs": [
    {
     "data": {
      "text/plain": [
       "          testClasses\n",
       "knn.predic   0   1\n",
       "         0  26   2\n",
       "         1   8 328"
      ]
     },
     "execution_count": 13,
     "metadata": {},
     "output_type": "execute_result"
    },
    {
     "name": "stdout",
     "output_type": "stream",
     "text": [
      "[1] accuracy=  97 %\n"
     ]
    }
   ],
   "source": [
    "trainClasses <- unlist(mrnaClassNum[1,trainRows], use.names=FALSE)\n",
    "testClasses <- unlist(mrnaClassNum[1,-trainRows], use.names=FALSE)\n",
    "knn.predic <- knn(trainSet, testSet, trainClasses, testClasses,k=1)\n",
    "knn.predic = as.vector(knn.predic)\n",
    "table(knn.predic, testClasses)\n",
    "tab <- table(knn.predic, t(testClasses))\n",
    "error <- sum(tab) - sum(diag(tab))\n",
    "accuracy <- round(100- (error * 100 / length(testClasses)))\n",
    "print(paste(\"accuracy= \", as.character(accuracy), \"%\"), quote=FALSE)"
   ]
  },
  {
   "cell_type": "markdown",
   "metadata": {},
   "source": [
    "### RandomForest on selected features on independent test set\n",
    "\n",
    "We run again RandomForest on the different training and test sets and obtain a classification accuracy of 99%. We have 3 errors on 364 data samples, which is a very high result. The exact figure is:\n",
    "\n",
    "361 / 364 = 99.18%\n",
    "\n",
    "Therefore once more KNN and RandomForest are tied. However we notice that the errors are not exactly the same. RandomForest has no misclassified '1', while KNN has three '1' classifed as '0'. This means than in three cases, patients with a tumor are classified as being normal, which is what is called a false negative. In a medical domain, this type of error is more severe than the false positive because some patients will think that they are fine and not seek care while they should seek care."
   ]
  },
  {
   "cell_type": "code",
   "execution_count": 14,
   "metadata": {},
   "outputs": [
    {
     "data": {
      "text/html": [
       "'factor'"
      ],
      "text/latex": [
       "'factor'"
      ],
      "text/markdown": [
       "'factor'"
      ],
      "text/plain": [
       "[1] \"factor\""
      ]
     },
     "execution_count": 14,
     "metadata": {},
     "output_type": "execute_result"
    },
    {
     "data": {
      "text/plain": [
       "         testClasses\n",
       "rf.predic   0   1\n",
       "        0  24   0\n",
       "        1  10 330"
      ]
     },
     "execution_count": 14,
     "metadata": {},
     "output_type": "execute_result"
    },
    {
     "name": "stdout",
     "output_type": "stream",
     "text": [
      "[1] accuracy=  97 %\n"
     ]
    }
   ],
   "source": [
    "trainSetClass <- as.data.frame(cbind(trainSet, t(mrnaClassNum[1,trainRows])))\n",
    "testSetClass <- as.data.frame(cbind(testSet, t(mrnaClassNum[1,-trainRows])))\n",
    "colnames(trainSetClass)[101] <- \"class\"\n",
    "trainSetClass$class <- as.factor(trainSetClass$class)  # for classification\n",
    "class(trainSetClass$class)\n",
    "# should be factor for classification\n",
    "rf <- randomForest(class ~., trainSetClass,\n",
    "                              ntree=100,\n",
    "                              importance=T)\n",
    "colnames(testSetClass)[101] <- \"class\"\n",
    "testSetClass$class <- as.factor(testSetClass$class)  # for classification\n",
    "rf.predic <- predict(rf ,testSetClass)\n",
    "rf.predic = as.vector(rf.predic)\n",
    "table(rf.predic, testClasses)\n",
    "tab <- table(rf.predic, t(testClasses))\n",
    "error <- sum(tab) - sum(diag(tab))\n",
    "accuracy <- round(100- (error * 100 / length(testClasses)))\n",
    "print(paste(\"accuracy= \", as.character(accuracy), \"%\"), quote=FALSE)"
   ]
  },
  {
   "cell_type": "markdown",
   "metadata": {},
   "source": [
    "The two models selected above are particularly efficient and effective as we could see.               "
   ]
  }
 ],
 "metadata": {
  "anaconda-cloud": {},
  "kernelspec": {
   "display_name": "Python 3",
   "language": "python",
   "name": "python3"
  },
  "language_info": {
   "codemirror_mode": {
    "name": "ipython",
    "version": 3
   },
   "file_extension": ".py",
   "mimetype": "text/x-python",
   "name": "python",
   "nbconvert_exporter": "python",
   "pygments_lexer": "ipython3",
   "version": "3.7.3"
  }
 },
 "nbformat": 4,
 "nbformat_minor": 1
}
